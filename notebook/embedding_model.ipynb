{
 "cells": [
  {
   "metadata": {
    "ExecuteTime": {
     "end_time": "2025-07-19T11:00:25.815174Z",
     "start_time": "2025-07-19T11:00:25.812691Z"
    }
   },
   "cell_type": "code",
   "source": "from sentence_transformers import SentenceTransformer",
   "id": "44b708772fb8e11",
   "outputs": [],
   "execution_count": 12
  },
  {
   "metadata": {
    "ExecuteTime": {
     "end_time": "2025-07-19T11:00:31.181128Z",
     "start_time": "2025-07-19T11:00:25.827606Z"
    }
   },
   "cell_type": "code",
   "source": [
    "model_name =  \"BAAI/bge-m3\"\n",
    "#model_name =\"Qwen/Qwen3-Embedding-0.6B\"\n",
    "model = SentenceTransformer(model_name)"
   ],
   "id": "cdd9c707d8393ce6",
   "outputs": [],
   "execution_count": 13
  },
  {
   "metadata": {
    "ExecuteTime": {
     "end_time": "2025-07-19T11:00:48.885553Z",
     "start_time": "2025-07-19T11:00:48.882866Z"
    }
   },
   "cell_type": "code",
   "source": [
    "# The queries and documents to embed\n",
    "queries = [\n",
    "    \"What is the capital of China?\",\n",
    "    \"Explain gravity\",\n",
    "]\n",
    "documents = [\n",
    "    \"The capital of China is Beijing.\",\n",
    "    \"Gravity is a force that attracts two bodies towards each other. It gives weight to physical objects and is responsible for the movement of planets around the sun.\",\n",
    "]"
   ],
   "id": "dab21b2654b3e981",
   "outputs": [],
   "execution_count": 16
  },
  {
   "cell_type": "code",
   "id": "initial_id",
   "metadata": {
    "collapsed": true,
    "ExecuteTime": {
     "end_time": "2025-07-19T11:00:53.291771Z",
     "start_time": "2025-07-19T11:00:53.135819Z"
    }
   },
   "source": [
    "query_embeddings = model.encode(queries, prompt_name=\"query\")\n",
    "document_embeddings = model.encode(documents)\n",
    "\n",
    "# Compute the (cosine) similarity between the query and document embeddings\n",
    "similarity = model.similarity(query_embeddings, document_embeddings)\n",
    "print(similarity)\n",
    "# Qwen output\n",
    "# tensor([[0.7646, 0.1414],\n",
    "#         [0.1355, 0.6000]])\n",
    "\n",
    "# bge-mc3 output:\n",
    "# tensor([[0.7922, 0.2818],\n",
    "#         [0.3806, 0.6933]])"
   ],
   "outputs": [
    {
     "name": "stdout",
     "output_type": "stream",
     "text": [
      "tensor([[0.7922, 0.2818],\n",
      "        [0.3806, 0.6933]])\n"
     ]
    }
   ],
   "execution_count": 17
  },
  {
   "metadata": {
    "ExecuteTime": {
     "end_time": "2025-07-19T11:00:31.537522Z",
     "start_time": "2025-07-19T11:00:31.536218Z"
    }
   },
   "cell_type": "code",
   "source": "",
   "id": "c5a0bd52ffde359e",
   "outputs": [],
   "execution_count": null
  }
 ],
 "metadata": {
  "kernelspec": {
   "display_name": "Python 3",
   "language": "python",
   "name": "python3"
  },
  "language_info": {
   "codemirror_mode": {
    "name": "ipython",
    "version": 2
   },
   "file_extension": ".py",
   "mimetype": "text/x-python",
   "name": "python",
   "nbconvert_exporter": "python",
   "pygments_lexer": "ipython2",
   "version": "2.7.6"
  }
 },
 "nbformat": 4,
 "nbformat_minor": 5
}
